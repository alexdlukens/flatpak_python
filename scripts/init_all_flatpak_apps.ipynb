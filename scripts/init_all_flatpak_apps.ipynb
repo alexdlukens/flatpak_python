{
 "cells": [
  {
   "cell_type": "code",
   "execution_count": 8,
   "id": "4cd2cac9",
   "metadata": {},
   "outputs": [],
   "source": [
    "from flathub_python_api import (\n",
    "    ApiClient as FlatpakApiClient,\n",
    "    Configuration,\n",
    "    CollectionApi,\n",
    "    AppsIndex,\n",
    ")\n",
    "from typing import Optional\n",
    "import json\n",
    "from pydantic import BaseModel, model_validator\n",
    "from collections import defaultdict\n",
    "from catalogd_api_client import (\n",
    "    ApiClient as CatalogdApiClient,\n",
    "    DefaultApi,\n",
    "    UnifiedAppApi,\n",
    "    SpecificAppApi,\n",
    "    AppSourceApi,\n",
    "    AppSource,\n",
    "    SpecificApp,\n",
    "    \n",
    ")\n",
    "from catalogd_api_client.exceptions import NotFoundException\n",
    "from catalogd_api_client import UnifiedApp\n",
    "\n",
    "from pathlib import Path\n",
    "import traceback\n",
    "import cdifflib\n",
    "import tqdm"
   ]
  },
  {
   "cell_type": "code",
   "execution_count": 30,
   "id": "a8b5eb2a",
   "metadata": {},
   "outputs": [],
   "source": [
    "# Initialize the API client\n",
    "flatpak_client = FlatpakApiClient(configuration=Configuration(host=\"http://ideapad.alukens.com:8000\"))\n",
    "collection_api = CollectionApi(flatpak_client)\n",
    "\n",
    "catalogd_client = CatalogdApiClient(configuration=Configuration(host=\"https://ideapad.alukens.com\"))\n",
    "\n",
    "INDEX_FILEPATH = Path(\"__file__\").resolve().parent / \"app_index.json\"\n",
    "CREDENTIALS_FILE = Path(\"__file__\").resolve().parent.parent.parent / \"catalogd-scripts\" / \"credentials.json\"\n"
   ]
  },
  {
   "cell_type": "code",
   "execution_count": 31,
   "id": "4ce43229",
   "metadata": {},
   "outputs": [],
   "source": [
    "def login_catalogd_client(api_client: CatalogdApiClient, credentials_file: Path):\n",
    "    with open(credentials_file, \"r\") as f:\n",
    "        credentials = json.load(f)\n",
    "        alice = [cred for cred in credentials if cred[\"username\"] == \"alice\"][0]\n",
    "\n",
    "    default_api = DefaultApi(api_client)\n",
    "    auth_response = default_api.login_for_access_token_api_auth_token_post(\n",
    "        username=alice[\"username\"], password=alice[\"password\"]\n",
    "    )\n",
    "    api_client.set_default_header(\"Authorization\", f\"Bearer {auth_response.access_token}\")"
   ]
  },
  {
   "cell_type": "code",
   "execution_count": 32,
   "id": "2444840a",
   "metadata": {},
   "outputs": [],
   "source": [
    "login_catalogd_client(api_client=catalogd_client, credentials_file=CREDENTIALS_FILE)"
   ]
  },
  {
   "cell_type": "code",
   "execution_count": 33,
   "id": "e257cab8",
   "metadata": {},
   "outputs": [
    {
     "data": {
      "text/plain": [
       "b'[\"audiovideo\",\"development\",\"education\",\"game\",\"graphics\",\"network\",\"office\",\"science\",\"system\",\"utility\"]'"
      ]
     },
     "execution_count": 33,
     "metadata": {},
     "output_type": "execute_result"
    }
   ],
   "source": [
    "collection_api.get_categories_collection_category_get_without_preload_content().data"
   ]
  },
  {
   "cell_type": "code",
   "execution_count": 35,
   "id": "3fc57b94",
   "metadata": {},
   "outputs": [],
   "source": [
    "categories = json.loads(collection_api.get_categories_collection_category_get_without_preload_content().data)"
   ]
  },
  {
   "cell_type": "code",
   "execution_count": 36,
   "id": "75b63bc0",
   "metadata": {},
   "outputs": [
    {
     "data": {
      "text/plain": [
       "['audiovideo',\n",
       " 'development',\n",
       " 'education',\n",
       " 'game',\n",
       " 'graphics',\n",
       " 'network',\n",
       " 'office',\n",
       " 'science',\n",
       " 'system',\n",
       " 'utility']"
      ]
     },
     "execution_count": 36,
     "metadata": {},
     "output_type": "execute_result"
    }
   ],
   "source": [
    "categories"
   ]
  },
  {
   "cell_type": "code",
   "execution_count": 37,
   "id": "73001181",
   "metadata": {},
   "outputs": [],
   "source": [
    "def get_all_apps_in_category(\n",
    "    collection_api: CollectionApi, category: str, limit: Optional[int] = None\n",
    "):\n",
    "    \"\"\"\n",
    "    Fetch all apps in a specific category.\n",
    "\n",
    "    :param category: The category to fetch apps from.\n",
    "    :param limit: Optional limit on the number of apps to fetch.\n",
    "    :return: List of apps in the specified category.\n",
    "    \"\"\"\n",
    "    apps = []\n",
    "    page = 1\n",
    "\n",
    "    while True:\n",
    "        print(f\"Fetching page {page} for category '{category}'...\")\n",
    "        response = collection_api.get_category_collection_category_category_get(\n",
    "            category=category, page=page, per_page=100\n",
    "        )\n",
    "\n",
    "        apps.extend(response.hits)\n",
    "        if page == response.total_pages:\n",
    "            break\n",
    "        if limit and len(apps) >= limit:\n",
    "            print(f\"Reached limit of {limit} apps.\")\n",
    "            break\n",
    "\n",
    "        page += 1\n",
    "    return apps[:limit] if limit else apps"
   ]
  },
  {
   "cell_type": "code",
   "execution_count": 38,
   "id": "c5850fbc",
   "metadata": {},
   "outputs": [],
   "source": [
    "class EntireAppIndex(BaseModel):\n",
    "    categories: list[str]\n",
    "    index: dict[str, list[AppsIndex]]\n",
    "\n",
    "    @model_validator(mode=\"after\")\n",
    "    def validate_index(self):\n",
    "        for category in self.categories:\n",
    "            if category not in self.index:\n",
    "                print(f\"No apps for category {category} in index\")\n",
    "                self.index[category] = []\n",
    "\n",
    "        return self\n",
    "\n",
    "    @property\n",
    "    def app_count(self):\n",
    "        return sum(len(l) for l in self.index.values())"
   ]
  },
  {
   "cell_type": "code",
   "execution_count": 39,
   "id": "3748d725",
   "metadata": {},
   "outputs": [],
   "source": [
    "def fetch_all_apps(\n",
    "    categories: list[str],\n",
    "    collection_api: CollectionApi,\n",
    "    filepath: Path | None,\n",
    "    force_pull: bool = False,\n",
    ") -> EntireAppIndex:\n",
    "            \n",
    "    all_apps: dict[str, list[AppsIndex]] = defaultdict(list)\n",
    "    for category in categories:\n",
    "        print(f\"Fetching apps for category: {category}\")\n",
    "        apps_in_cat = get_all_apps_in_category(collection_api, category)\n",
    "        all_apps[category].extend(apps_in_cat)\n",
    "    print(f\"Total apps fetched: {sum(len(l) for l in all_apps.values())}\")\n",
    "    index = EntireAppIndex(categories=categories, index=all_apps)\n",
    "    if filepath:\n",
    "        with open(filepath, \"w\") as f:\n",
    "            f.write(index.model_dump_json())\n",
    "\n",
    "    return index"
   ]
  },
  {
   "cell_type": "code",
   "execution_count": 40,
   "id": "1acadca8",
   "metadata": {},
   "outputs": [
    {
     "name": "stdout",
     "output_type": "stream",
     "text": [
      "Fetching apps for category: audiovideo\n",
      "Fetching page 1 for category 'audiovideo'...\n",
      "Fetching page 2 for category 'audiovideo'...\n",
      "Fetching page 3 for category 'audiovideo'...\n",
      "Fetching page 4 for category 'audiovideo'...\n",
      "Fetching apps for category: development\n",
      "Fetching page 1 for category 'development'...\n",
      "Fetching page 2 for category 'development'...\n",
      "Fetching page 3 for category 'development'...\n",
      "Fetching apps for category: education\n",
      "Fetching page 1 for category 'education'...\n",
      "Fetching page 2 for category 'education'...\n",
      "Fetching apps for category: game\n",
      "Fetching page 1 for category 'game'...\n",
      "Fetching page 2 for category 'game'...\n",
      "Fetching page 3 for category 'game'...\n",
      "Fetching page 4 for category 'game'...\n",
      "Fetching page 5 for category 'game'...\n",
      "Fetching page 6 for category 'game'...\n",
      "Fetching page 7 for category 'game'...\n",
      "Fetching apps for category: graphics\n",
      "Fetching page 1 for category 'graphics'...\n",
      "Fetching page 2 for category 'graphics'...\n",
      "Fetching page 3 for category 'graphics'...\n",
      "Fetching apps for category: network\n",
      "Fetching page 1 for category 'network'...\n",
      "Fetching page 2 for category 'network'...\n",
      "Fetching page 3 for category 'network'...\n",
      "Fetching page 4 for category 'network'...\n",
      "Fetching apps for category: office\n",
      "Fetching page 1 for category 'office'...\n",
      "Fetching page 2 for category 'office'...\n",
      "Fetching page 3 for category 'office'...\n",
      "Fetching apps for category: science\n",
      "Fetching page 1 for category 'science'...\n",
      "Fetching apps for category: system\n",
      "Fetching page 1 for category 'system'...\n",
      "Fetching apps for category: utility\n",
      "Fetching page 1 for category 'utility'...\n",
      "Fetching page 2 for category 'utility'...\n",
      "Fetching page 3 for category 'utility'...\n",
      "Fetching page 4 for category 'utility'...\n",
      "Fetching page 5 for category 'utility'...\n",
      "Fetching page 6 for category 'utility'...\n",
      "Fetching page 7 for category 'utility'...\n",
      "Total apps fetched: 3019\n"
     ]
    }
   ],
   "source": [
    "index = fetch_all_apps(categories=categories, collection_api=collection_api, filepath=INDEX_FILEPATH, force_pull=False)"
   ]
  },
  {
   "cell_type": "code",
   "execution_count": null,
   "id": "fb4f0787",
   "metadata": {},
   "outputs": [],
   "source": []
  },
  {
   "cell_type": "code",
   "execution_count": 69,
   "id": "1afd57e9",
   "metadata": {},
   "outputs": [],
   "source": [
    "unified_app_api = UnifiedAppApi(catalogd_client)\n",
    "\n",
    "def get_all_unified_apps(unified_app_api: UnifiedAppApi) -> list[UnifiedApp]:\n",
    "    apps: list[UnifiedApp] = []\n",
    "    \n",
    "    page = 1\n",
    "    count = 100\n",
    "    while True:\n",
    "        results = unified_app_api.find_all_route_api_crud_unified_app_get(limit=count, skip=(page-1)*count)\n",
    "        if results:\n",
    "            apps.extend(results)\n",
    "            page += 1\n",
    "        else:\n",
    "            print(f\"no apps returned for page {page}, breaking\")\n",
    "            break\n",
    "    return apps"
   ]
  },
  {
   "cell_type": "code",
   "execution_count": 70,
   "id": "7f402a39",
   "metadata": {},
   "outputs": [
    {
     "name": "stdout",
     "output_type": "stream",
     "text": [
      "no apps returned for page 2, breaking\n"
     ]
    }
   ],
   "source": [
    "unified_apps = get_all_unified_apps(unified_app_api=unified_app_api)"
   ]
  },
  {
   "cell_type": "code",
   "execution_count": 71,
   "id": "0d8e8b75",
   "metadata": {},
   "outputs": [
    {
     "data": {
      "text/plain": [
       "1"
      ]
     },
     "execution_count": 71,
     "metadata": {},
     "output_type": "execute_result"
    }
   ],
   "source": [
    "len(unified_apps)"
   ]
  },
  {
   "cell_type": "code",
   "execution_count": 72,
   "id": "d0a7be6b",
   "metadata": {},
   "outputs": [],
   "source": [
    "def match_flatpak_app_with_unified_app(flatpak_app: AppsIndex, unified_apps: list[UnifiedApp]):\n",
    "    # print(flatpak_app.name)\n",
    "    flatpak_app_name = flatpak_app.name.lower()\n",
    "    # replace whitespace with dashes for matching\n",
    "    flatpak_app_name = flatpak_app_name.replace(\" \", \"-\")\n",
    "    for unified_app in unified_apps:\n",
    "        if unified_app.name.lower() == flatpak_app_name:\n",
    "            return unified_app\n",
    "    return None\n"
   ]
  },
  {
   "cell_type": "code",
   "execution_count": 73,
   "id": "6425ec22",
   "metadata": {},
   "outputs": [],
   "source": [
    "from itertools import chain\n",
    "matched_apps = []\n",
    "for flatpak_app in chain(*index.index.values()):\n",
    "    if unified_app_match := match_flatpak_app_with_unified_app(flatpak_app=flatpak_app, unified_apps=unified_apps):\n",
    "        matched_apps.append((flatpak_app, unified_app_match))"
   ]
  },
  {
   "cell_type": "code",
   "execution_count": 74,
   "id": "90e1e8a6",
   "metadata": {},
   "outputs": [
    {
     "data": {
      "text/plain": [
       "0"
      ]
     },
     "execution_count": 74,
     "metadata": {},
     "output_type": "execute_result"
    }
   ],
   "source": [
    "len(matched_apps)"
   ]
  },
  {
   "cell_type": "code",
   "execution_count": 75,
   "id": "85435e93",
   "metadata": {},
   "outputs": [],
   "source": [
    "matched_flatpak_apps = [flatpak for flatpak, unified_app in matched_apps]\n",
    "disjoint_flatpak_apps = [flatpak for flatpak in chain(*index.index.values()) if flatpak not in matched_flatpak_apps]"
   ]
  },
  {
   "cell_type": "code",
   "execution_count": 76,
   "id": "e44b4a6a",
   "metadata": {},
   "outputs": [
    {
     "data": {
      "text/plain": [
       "3019"
      ]
     },
     "execution_count": 76,
     "metadata": {},
     "output_type": "execute_result"
    }
   ],
   "source": [
    "len(disjoint_flatpak_apps)"
   ]
  },
  {
   "cell_type": "code",
   "execution_count": 77,
   "id": "1b53ea7b",
   "metadata": {},
   "outputs": [],
   "source": [
    "exclude_list = [\n",
    "    \"Ruffle\",\n",
    "    \"Videos\",\n",
    "    \"Music\",\n",
    "    \"Builder\",\n",
    "    \"Gitter\",\n",
    "    \"Minion\",\n",
    "    \"Mines\",\n",
    "    \"GIScan\",\n",
    "    \"gitIgnore\",\n",
    "    \"logisim\",\n",
    "    \"System\",\n",
    "    \"KPatience\",\n",
    "    \"Mahjongg\",\n",
    "    \"Workbench\",\n",
    "    \"Zatikon\",\n",
    "    \"Swatch\",\n",
    "    \"Gauge\",\n",
    "    \"Atomic\",\n",
    "    \"Framed\",\n",
    "    \"Element\",\n",
    "    \"Papers\",\n",
    "    \"Calculator\",\n",
    "    \"Weather\",\n",
    "    \"Vaults\",\n",
    "    \"Bottles\",\n",
    "    \"Timer\",\n",
    "    \"Shortcut\",\n",
    "    \"JPEG2PDF\",\n",
    "    \"Password\",\n",
    "    \"Counters\",\n",
    "]"
   ]
  },
  {
   "cell_type": "code",
   "execution_count": 78,
   "id": "ed8840e7",
   "metadata": {},
   "outputs": [],
   "source": [
    "def attempt_match_disjoint_apps(\n",
    "    disjoint_flatpak_apps: list[AppsIndex], unified_apps: list[UnifiedApp], exclude_list: Optional[list[str]] = None\n",
    "):\n",
    "    # Attempt to match disjoint flatpak apps with unified apps using fuzzy matching on lowercased names\n",
    "    matched = []\n",
    "    sm = cdifflib.CSequenceMatcher(None, \"\", \"\")\n",
    "    pbar = tqdm.tqdm(unified_apps, desc=\"Matching disjoint apps\", mininterval=0.5)\n",
    "    for unified_app in pbar:\n",
    "        best_score = 0.0\n",
    "        best_flatpak = None\n",
    "        sm.set_seq2(unified_app.name.lower())\n",
    "        for flatpak_app in disjoint_flatpak_apps:\n",
    "            if exclude_list and flatpak_app.name in exclude_list:\n",
    "                continue\n",
    "            sm.set_seq1(flatpak_app.name.lower())\n",
    "            score = sm.ratio()\n",
    "            if score > best_score:\n",
    "                best_score = score\n",
    "                best_flatpak = flatpak_app\n",
    "        if best_score > 0.9 and best_flatpak is not None:\n",
    "            pbar.write(f\"Best match for {unified_app.name} is {best_flatpak.name} with score {best_score}\")\n",
    "            matched.append((best_flatpak, unified_app))\n",
    "    return matched\n"
   ]
  },
  {
   "cell_type": "code",
   "execution_count": 79,
   "id": "38acc9f9",
   "metadata": {},
   "outputs": [
    {
     "name": "stderr",
     "output_type": "stream",
     "text": [
      "Matching disjoint apps: 100%|██████████| 1/1 [00:00<00:00, 39.08it/s]\n"
     ]
    }
   ],
   "source": [
    "attempted_matches = attempt_match_disjoint_apps(\n",
    "    disjoint_flatpak_apps=disjoint_flatpak_apps, unified_apps=unified_apps, exclude_list=exclude_list\n",
    ")"
   ]
  },
  {
   "cell_type": "code",
   "execution_count": null,
   "id": "f7717949",
   "metadata": {},
   "outputs": [],
   "source": []
  },
  {
   "cell_type": "code",
   "execution_count": null,
   "id": "7d98dff4",
   "metadata": {},
   "outputs": [
    {
     "name": "stdout",
     "output_type": "stream",
     "text": [
      "Power Tab Editor powertabeditor\n",
      "n-Track Studio n-trackstudio\n",
      "Firefly Luciferin fireflyluciferin\n",
      "fre:ac freac\n",
      "Redis Insight redisinsight\n",
      "Turtle kturtle\n",
      "pgAdmin 4 pgadmin4\n",
      "Logisim logiksim\n",
      "RemNote remote\n",
      "Tux Typing tuxtyping\n",
      "WordQuiz kwordquiz\n",
      "Pixel Wheels pixelwheels\n",
      "Midnightmare Teddy midnightmareteddy\n",
      "Dragon’s Apprentice dragonsapprentice\n",
      "Frog Squash frogsquash\n",
      "Missile Math missilemath\n",
      "The Passage thepassage\n",
      "FaFa Runner fafarunner\n",
      "SaunaSim sauna-sim\n",
      "StepMania step-mania\n",
      "PAC-GAL pacgal\n",
      "Serious Shooter seriousshooter\n",
      "Temple Driver templedriver\n",
      "Tux Fishing tuxfishing\n",
      "Tux VS Dragon tuxvsdragon\n",
      "Voxel Paint voxelpaint\n",
      "Voxel Paint Pro voxelpaintpro\n",
      "AI Generated Game aigeneratedgame\n",
      "Mr Rescue mrrescue\n",
      "Endless Sky endlesssky\n",
      "Sudoku ksudoku\n",
      "OpenDungeonsPlus opendungeons-plus\n",
      "Bugdom 2 bugdom2\n",
      "Cro-Mag Rally cromagrally\n",
      "Otto Matic ottomatic\n",
      "GtkAtlantic gtk-atlantic\n",
      "World of PADMAN worldofpadman\n",
      "Warzone 2100 warzone2100\n",
      "Sky Checkers skycheckers\n",
      "Dhewm 3 dhewm3\n",
      "Frozen Bubble frozenbubble\n",
      "Lights Off lightsoff\n",
      "Reversi kreversi\n",
      "Hurry Curry! hurrycurry\n",
      "Eternal Lands eternallands\n",
      "Stunt Rally stuntrally\n",
      "draw.io drawio\n",
      "Material Maker materialmaker\n",
      "Synfig Studio synfigstudio\n",
      "Rabbit remote control rabbitremotecontrol\n",
      "GeForce NOW Electron geforcenow-electron\n",
      "Dayon! dayon\n",
      "Feeds gfeeds\n",
      "Outline outliner\n",
      "JDownloader jdownloader2\n",
      "Proton Mail Bridge protonmail-bridge\n",
      "PDF Arranger pdfarranger\n",
      "ElectronMail electron-mail\n",
      "Invoice Ninja invoiceninja\n",
      "Super Productivity superproductivity\n",
      "PDF Mix Tool pdfmixtool\n",
      "Chart Geany chartgeany\n",
      "ONLYOFFICE Desktop Editors onlyoffice-desktopeditors\n",
      "SasView sasview5\n",
      "Yancas yacas\n",
      "Revelation revelation-x\n",
      "Basilisk II basiliskii\n",
      "FS-UAE fsuae\n",
      "SimpleX Chat simplexchat\n",
      "MQTT X mqttx\n",
      "Notepad Next notepadnext\n",
      "Wallpaper Downloader wallpaperdownloader\n",
      "Cosmic Comics cosmiccomics\n",
      "Cube Timer cubetimer\n",
      "Save Desktop savedesktop\n",
      "Break Timer breaktimer\n",
      "Time Log timelog\n",
      "Clock kclock\n"
     ]
    }
   ],
   "source": [
    "for flatpak_app, unified_app in attempted_matches:\n",
    "    if flatpak_app.name in exclude_list:\n",
    "        continue\n",
    "    print(f\"{flatpak_app.name} {unified_app.name}\")"
   ]
  },
  {
   "cell_type": "code",
   "execution_count": 45,
   "id": "981e5ff9",
   "metadata": {},
   "outputs": [
    {
     "data": {
      "text/plain": [
       "79"
      ]
     },
     "execution_count": 45,
     "metadata": {},
     "output_type": "execute_result"
    }
   ],
   "source": [
    "len(attempted_matches)"
   ]
  },
  {
   "cell_type": "code",
   "execution_count": 38,
   "id": "f2b89e95",
   "metadata": {},
   "outputs": [
    {
     "data": {
      "text/plain": [
       "(AppsIndex(name='QPrompt', keywords=['autocue', 'imaginary', 'prompter', 'qprompt', 'teleprompter'], summary='Personal teleprompter software for all video creators', description=\"Open source personal teleprompter software for all video creators. Built with ease of use, control accuracy, fast performance, and cross-platform support in mind. QPrompt's convergent user interface can run on Linux, Windows, macOS, and Android.\", id='com_cuperino_qprompt', type='desktop-application', translations={}, project_license='GPL-3.0', is_free_license=True, app_id='com.cuperino.qprompt', icon='https://dl.flathub.org/repo/appstream/x86_64/icons/128x128/com.cuperino.qprompt.png', main_categories=MainCategories(anyof_schema_1_validator=None, anyof_schema_2_validator=None, actual_instance=<MainCategory.AUDIOVIDEO: 'audiovideo'>, any_of_schemas={'List[MainCategory]', 'MainCategory'}), sub_categories=['Video'], developer_name='Javier O. Cordero Pérez', verification_verified=True, verification_method=<VerificationMethod.WEBSITE: 'website'>, verification_login_name=None, verification_login_provider=None, verification_login_is_organization=None, verification_website='cuperino.com', verification_timestamp='1681011650', runtime='org.kde.Platform/x86_64/5.15-22.08', updated_at=1681017300, arches=['aarch64', 'x86_64'], added_at=1681017300, trending=None, installs_last_month=None, is_mobile_friendly=False),\n",
       " UnifiedApp(created_at=datetime.datetime(2025, 9, 18, 1, 34, 36, 427961, tzinfo=TzInfo(UTC)), updated_at=datetime.datetime(2025, 9, 18, 1, 34, 40, 210749, tzinfo=TzInfo(UTC)), id=7559, name='qprompt', title='QPrompt', description='Personal teleprompter software for all video creators.\\nBuilt with ease of use, productivity, control accuracy, and\\nsmooth performance in mind. QPrompt works with tablet teleprompters,\\nstudio teleprompters, webcams and cellphones.\\nQPrompt is the spiritual successor to Imaginary Teleprompter.', author='javicorper', icon='https://dashboard.snapcraft.io/site_media/appmedia/2022/01/512-apps-com.cuperino.qprompt.png', categories=['photo-and-video', 'productivity'], architectures=['amd64', 'arm64', 'source'], app_types=['snap', 'source'], media=[CatalogdSchemasCommonMedia(url='https://dashboard.snapcraft.io/site_media/appmedia/2022/01/512-apps-com.cuperino.qprompt.png', type='icon', height=512.0, width=512.0, alt_text=None), CatalogdSchemasCommonMedia(url='https://dashboard.snapcraft.io/site_media/appmedia/2022/01/banner.jpg', type='banner', height=1440.0, width=4320.0, alt_text=None), CatalogdSchemasCommonMedia(url='https://dashboard.snapcraft.io/site_media/appmedia/2022/01/1.png', type='screenshot', height=769.0, width=1306.0, alt_text=None), CatalogdSchemasCommonMedia(url='https://dashboard.snapcraft.io/site_media/appmedia/2022/01/3.png', type='screenshot', height=1200.0, width=1920.0, alt_text=None), CatalogdSchemasCommonMedia(url='https://dashboard.snapcraft.io/site_media/appmedia/2022/01/4.png', type='screenshot', height=1200.0, width=1920.0, alt_text=None), CatalogdSchemasCommonMedia(url='https://dashboard.snapcraft.io/site_media/appmedia/2022/01/Screenshot_20220103_062427e.png', type='screenshot', height=2160.0, width=1386.0, alt_text=None), CatalogdSchemasCommonMedia(url='https://dashboard.snapcraft.io/site_media/appmedia/2022/01/Screenshot_20211229_170443.png', type='screenshot', height=1716.0, width=2216.0, alt_text=None)]))"
      ]
     },
     "execution_count": 38,
     "metadata": {},
     "output_type": "execute_result"
    }
   ],
   "source": [
    "matched_apps[1]"
   ]
  },
  {
   "cell_type": "code",
   "execution_count": null,
   "id": "50a3d3cc",
   "metadata": {},
   "outputs": [],
   "source": []
  },
  {
   "cell_type": "code",
   "execution_count": null,
   "id": "9abfa2ea",
   "metadata": {},
   "outputs": [],
   "source": [
    "matched_apps.extend(attempted_matches)\n",
    "# remove attempted matches from disjoint apps\n",
    "disjoint_flatpak_apps = [flatpak for flatpak in disjoint_flatpak_apps if flatpak not in [flatpak for flatpak, unified_app in attempted_matches]]"
   ]
  },
  {
   "cell_type": "code",
   "execution_count": 54,
   "id": "4d76cbbb",
   "metadata": {},
   "outputs": [],
   "source": [
    "# remove duplicates from matched apps based on flatpak app id\n",
    "def remove_duplicates(matched_apps):\n",
    "    seen_flatpak_ids = set()\n",
    "    unique_matched_apps = []\n",
    "    for flatpak, unified_app in matched_apps:\n",
    "        if flatpak.app_id not in seen_flatpak_ids:\n",
    "            unique_matched_apps.append((flatpak, unified_app))\n",
    "            seen_flatpak_ids.add(flatpak.app_id)\n",
    "    return unique_matched_apps\n",
    "matched_apps = remove_duplicates(matched_apps)"
   ]
  },
  {
   "cell_type": "code",
   "execution_count": null,
   "id": "c914f02d",
   "metadata": {},
   "outputs": [],
   "source": [
    "def sync_flatpak_specific_apps(\n",
    "    catalogd_client: CatalogdApiClient,\n",
    "    matched_apps: list[tuple[AppsIndex, UnifiedApp]],\n",
    "    disjoint_flatpak_apps: list[AppsIndex],\n",
    "):\n",
    "    specific_app_api = SpecificAppApi(api_client=catalogd_client)\n",
    "    unified_app_api = UnifiedAppApi(api_client=catalogd_client)\n",
    "\n",
    "    for flatpak_app, unified_app in tqdm.tqdm(matched_apps, desc=\"Syncing specific apps\", mininterval=0.5):\n",
    "        # check if specific app already exists for this flatpak app id\n",
    "        check_or_add_specific_app(\n",
    "            unified_app_api=unified_app_api,\n",
    "            specific_app_api=specific_app_api,\n",
    "            unified_app=unified_app,\n",
    "            flatpak_app=flatpak_app,\n",
    "        )\n",
    "\n",
    "    for flatpak_app in disjoint_flatpak_apps:\n",
    "        check_or_add_specific_app(\n",
    "            unified_app_api=unified_app_api,\n",
    "            specific_app_api=specific_app_api,\n",
    "            unified_app=None,\n",
    "            flatpak_app=flatpak_app,\n",
    "        )\n",
    "\n",
    "\n",
    "def get_or_create_flathub_source(catalogd_client: CatalogdApiClient):\n",
    "    app_source_api = AppSourceApi(api_client=catalogd_client)\n",
    "    try:\n",
    "        flathub_source = app_source_api.find_one_api_crud_app_source_one_get(\n",
    "            where=json.dumps({\"and\": [{\"name\": {\"eq\": \"Flathub\"}}, {\"type\": {\"eq\": \"flatpak\"}}]})\n",
    "        )\n",
    "    except NotFoundException:\n",
    "        flathub_source = None\n",
    "    if not flathub_source:\n",
    "        print(\"Flathub source not found, creating...\")\n",
    "        flathub_source = AppSource(name=\"Flathub\", location=\"https://flathub.org\", type=\"flatpak\", authenticated=False)\n",
    "        flathub_source = app_source_api.create_route_api_crud_app_source_post(flathub_source.model_dump(mode=\"json\"))\n",
    "\n",
    "    return flathub_source\n",
    "\n",
    "\n",
    "def create_mongodb_flatpak_query(flatpak_app: AppsIndex, source: AppSource) -> str:\n",
    "    return json.dumps({\"and\": [{\"external_id\": {\"eq\": flatpak_app.app_id}}, {\"source\": {\"eq\": source.id}}]})\n",
    "\n",
    "\n",
    "def check_or_add_specific_app(\n",
    "    unified_app_api: UnifiedAppApi,\n",
    "    specific_app_api: SpecificAppApi,\n",
    "    unified_app: UnifiedApp | None,\n",
    "    flatpak_app: AppsIndex,\n",
    "):\n",
    "    flathub_source = get_or_create_flathub_source(catalogd_client=unified_app_api.api_client)\n",
    "    if not unified_app:\n",
    "        print(f\"No unified app found for flatpak app {flatpak_app.name}. Creating first...\")\n",
    "        unified_app = UnifiedApp(\n",
    "            name=flatpak_app.name,\n",
    "            title=flatpak_app.name,\n",
    "            description=flatpak_app.description,\n",
    "            author=flatpak_app.developer_name or \"Unknown\",\n",
    "            icon=flatpak_app.icon,\n",
    "        )\n",
    "        unified_app = unified_app_api.create_route_api_crud_unified_app_post(unified_app.model_dump(mode=\"json\"))\n",
    "    # check if specific app already exists for this flatpak app id\n",
    "    try:\n",
    "        specific_app = specific_app_api.find_all_route_api_crud_specific_app_get(\n",
    "            where=create_mongodb_flatpak_query(flatpak_app, flathub_source)\n",
    "        )\n",
    "    except NotFoundException:\n",
    "        specific_app = None\n",
    "\n",
    "    if not specific_app:\n",
    "        print(f\"Specific app not found for flatpak app {flatpak_app.name}. Creating...\")\n",
    "\n",
    "\n",
    "def delete_all_flathub_specific_apps(catalogd_client: CatalogdApiClient, flathub_source: AppSource):\n",
    "    specific_app_api = SpecificAppApi(api_client=catalogd_client)\n",
    "    specific_apps = specific_app_api.find_all_route_api_crud_specific_app_get(\n",
    "        where=json.dumps({\"source\": {\"eq\": flathub_source.id}})\n",
    "    )\n",
    "    for specific_app in specific_apps:\n",
    "        print(f\"Deleting specific app {specific_app.id} for unified app {specific_app.unified_app_id}\")\n",
    "        specific_app_api.delete_route_api_crud_specific_app_id_delete(specific_app.id)"
   ]
  },
  {
   "cell_type": "code",
   "execution_count": 87,
   "id": "1078886d",
   "metadata": {},
   "outputs": [
    {
     "data": {
      "text/plain": [
       "AppSource(created_at=datetime.datetime(2025, 10, 12, 22, 42, 10, 249037, tzinfo=TzInfo(UTC)), updated_at=datetime.datetime(2025, 10, 12, 22, 42, 10, 249040, tzinfo=TzInfo(UTC)), id=3, name='Flathub', type='flatpak', description='', location='https://flathub.org', authenticated=False)"
      ]
     },
     "execution_count": 87,
     "metadata": {},
     "output_type": "execute_result"
    }
   ],
   "source": [
    "get_or_create_flathub_source(catalogd_client=catalogd_client)"
   ]
  },
  {
   "cell_type": "code",
   "execution_count": 90,
   "id": "fa5b960c",
   "metadata": {},
   "outputs": [
    {
     "name": "stdout",
     "output_type": "stream",
     "text": [
      "{\n",
      "  \"name\": \"Ear Tag\",\n",
      "  \"keywords\": [\n",
      "    \"music\",\n",
      "    \"audio\",\n",
      "    \"tag\",\n",
      "    \"tagging\",\n",
      "    \"tagger\"\n",
      "  ],\n",
      "  \"summary\": \"Edit audio file tags\",\n",
      "  \"description\": \"Ear Tag is a simple audio file tag editor. It is primarily geared towards making quick edits or bulk-editing tracks in albums/EPs. Unlike other tagging programs, Ear Tag does not require the user to set up a music library folder. It can:\\n      \\n        Edit tags of MP3, WAV, M4A, FLAC, OGG and WMA files\\n        Modify metadata of multiple files at once\\n        Rename files using information from present tags\\n        Identify files using AcoustID\\n      \\n      Network access is only used for the \\\"Identify selected files\\\" option.\\n    \",\n",
      "  \"id\": \"app_drey_EarTag\",\n",
      "  \"type\": \"desktop-application\",\n",
      "  \"translations\": null,\n",
      "  \"project_license\": \"MIT\",\n",
      "  \"is_free_license\": true,\n",
      "  \"app_id\": \"app.drey.EarTag\",\n",
      "  \"icon\": \"https://dl.flathub.org/media/app/drey/EarTag/c7d8d673f91419413805731f0dabe70d/icons/128x128/app.drey.EarTag.png\",\n",
      "  \"main_categories\": {\n",
      "    \"anyof_schema_1_validator\": null,\n",
      "    \"anyof_schema_2_validator\": null,\n",
      "    \"actual_instance\": \"audiovideo\",\n",
      "    \"any_of_schemas\": [\n",
      "      \"List[MainCategory]\",\n",
      "      \"MainCategory\"\n",
      "    ]\n",
      "  },\n",
      "  \"sub_categories\": [\n",
      "    \"Audio\",\n",
      "    \"AudioVideoEditing\"\n",
      "  ],\n",
      "  \"developer_name\": \"knuxify\",\n",
      "  \"verification_verified\": true,\n",
      "  \"verification_method\": \"website\",\n",
      "  \"verification_login_name\": null,\n",
      "  \"verification_login_provider\": null,\n",
      "  \"verification_login_is_organization\": \"false\",\n",
      "  \"verification_website\": \"drey.app\",\n",
      "  \"verification_timestamp\": \"1678053943\",\n",
      "  \"runtime\": \"org.gnome.Platform/x86_64/48\",\n",
      "  \"updated_at\": 1756918986,\n",
      "  \"arches\": [\n",
      "    \"aarch64\",\n",
      "    \"x86_64\"\n",
      "  ],\n",
      "  \"added_at\": 1756918986,\n",
      "  \"trending\": null,\n",
      "  \"installs_last_month\": null,\n",
      "  \"is_mobile_friendly\": true\n",
      "}\n"
     ]
    }
   ],
   "source": [
    "print(disjoint_flatpak_apps[0].model_dump_json(indent=2))"
   ]
  },
  {
   "cell_type": "code",
   "execution_count": null,
   "id": "5a9c80d5",
   "metadata": {},
   "outputs": [],
   "source": []
  }
 ],
 "metadata": {
  "kernelspec": {
   "display_name": "flatpak-python-py3.12",
   "language": "python",
   "name": "python3"
  },
  "language_info": {
   "codemirror_mode": {
    "name": "ipython",
    "version": 3
   },
   "file_extension": ".py",
   "mimetype": "text/x-python",
   "name": "python",
   "nbconvert_exporter": "python",
   "pygments_lexer": "ipython3",
   "version": "3.12.3"
  }
 },
 "nbformat": 4,
 "nbformat_minor": 5
}
