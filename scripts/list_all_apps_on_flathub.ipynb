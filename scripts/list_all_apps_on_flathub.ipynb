{
 "cells": [
  {
   "cell_type": "code",
   "execution_count": 24,
   "id": "4cd2cac9",
   "metadata": {},
   "outputs": [],
   "source": [
    "from flathub_python_api import (\n",
    "    ApiClient as FlatpakApiClient,\n",
    "    Configuration,\n",
    "    CollectionApi,\n",
    "    AppsIndex,\n",
    ")\n",
    "from typing import Optional\n",
    "import json\n",
    "from pydantic import BaseModel, model_validator\n",
    "from collections import defaultdict\n",
    "from catalogd_api_client import (\n",
    "    ApiClient as CatalogdApiClient,\n",
    "    DefaultApi,\n",
    "    UnifiedAppApi,\n",
    ")\n",
    "from catalogd_api_client import UnifiedApp\n",
    "\n",
    "from pathlib import Path\n",
    "import traceback\n",
    "import cdifflib as difflib\n",
    "import enlighten"
   ]
  },
  {
   "cell_type": "code",
   "execution_count": 25,
   "id": "a8b5eb2a",
   "metadata": {},
   "outputs": [],
   "source": [
    "# Initialize the API client\n",
    "flatpak_client = FlatpakApiClient(configuration=Configuration(host=\"http://192.168.1.90:8000\"))\n",
    "collection_api = CollectionApi(flatpak_client)\n",
    "\n",
    "catalogd_client = CatalogdApiClient(configuration=Configuration(host=\"https://ideapad.alukens.com\"))\n",
    "\n",
    "INDEX_FILEPATH = Path(\"__file__\").resolve().parent / \"app_index.json\"\n",
    "CREDENTIALS_FILE = Path(\"__file__\").resolve().parent.parent.parent / \"catalogd-scripts\" / \"credentials.json\"\n",
    "pbar_manager = enlighten.get_manager()"
   ]
  },
  {
   "cell_type": "code",
   "execution_count": 4,
   "id": "4ce43229",
   "metadata": {},
   "outputs": [],
   "source": [
    "def login_catalogd_client(api_client: CatalogdApiClient, credentials_file: Path):\n",
    "    with open(credentials_file, \"r\") as f:\n",
    "        credentials = json.load(f)\n",
    "        alice = [cred for cred in credentials if cred[\"username\"] == \"alice\"][0]\n",
    "\n",
    "    default_api = DefaultApi(api_client)\n",
    "    auth_response = default_api.login_for_access_token_api_auth_token_post(\n",
    "        username=alice[\"username\"], password=alice[\"password\"]\n",
    "    )\n",
    "    api_client.set_default_header(\"Authorization\", f\"Bearer {auth_response.access_token}\")"
   ]
  },
  {
   "cell_type": "code",
   "execution_count": 5,
   "id": "2444840a",
   "metadata": {},
   "outputs": [],
   "source": [
    "login_catalogd_client(api_client=catalogd_client, credentials_file=CREDENTIALS_FILE)"
   ]
  },
  {
   "cell_type": "code",
   "execution_count": 6,
   "id": "3fc57b94",
   "metadata": {},
   "outputs": [],
   "source": [
    "categories = json.loads(collection_api.get_categories_collection_category_get_without_preload_content().data)"
   ]
  },
  {
   "cell_type": "code",
   "execution_count": 7,
   "id": "75b63bc0",
   "metadata": {},
   "outputs": [
    {
     "data": {
      "text/plain": [
       "['audiovideo',\n",
       " 'development',\n",
       " 'education',\n",
       " 'game',\n",
       " 'graphics',\n",
       " 'network',\n",
       " 'office',\n",
       " 'science',\n",
       " 'system',\n",
       " 'utility']"
      ]
     },
     "execution_count": 7,
     "metadata": {},
     "output_type": "execute_result"
    }
   ],
   "source": [
    "categories"
   ]
  },
  {
   "cell_type": "code",
   "execution_count": 8,
   "id": "73001181",
   "metadata": {},
   "outputs": [],
   "source": [
    "def get_all_apps_in_category(\n",
    "    collection_api: CollectionApi, category: str, limit: Optional[int] = None\n",
    "):\n",
    "    \"\"\"\n",
    "    Fetch all apps in a specific category.\n",
    "\n",
    "    :param category: The category to fetch apps from.\n",
    "    :param limit: Optional limit on the number of apps to fetch.\n",
    "    :return: List of apps in the specified category.\n",
    "    \"\"\"\n",
    "    apps = []\n",
    "    page = 1\n",
    "\n",
    "    while True:\n",
    "        print(f\"Fetching page {page} for category '{category}'...\")\n",
    "        response = collection_api.get_category_collection_category_category_get(\n",
    "            category=category, page=page, per_page=100\n",
    "        )\n",
    "\n",
    "        apps.extend(response.hits)\n",
    "        if page == response.total_pages:\n",
    "            break\n",
    "        if limit and len(apps) >= limit:\n",
    "            print(f\"Reached limit of {limit} apps.\")\n",
    "            break\n",
    "\n",
    "        page += 1\n",
    "    return apps[:limit] if limit else apps"
   ]
  },
  {
   "cell_type": "code",
   "execution_count": 9,
   "id": "c5850fbc",
   "metadata": {},
   "outputs": [],
   "source": [
    "class EntireAppIndex(BaseModel):\n",
    "    categories: list[str]\n",
    "    index: dict[str, list[AppsIndex]]\n",
    "\n",
    "    @model_validator(mode=\"after\")\n",
    "    def validate_index(self):\n",
    "        for category in self.categories:\n",
    "            if category not in self.index:\n",
    "                print(f\"No apps for category {category} in index\")\n",
    "                self.index[category] = []\n",
    "\n",
    "        return self\n",
    "\n",
    "    @property\n",
    "    def app_count(self):\n",
    "        return sum(len(l) for l in self.index.values())"
   ]
  },
  {
   "cell_type": "code",
   "execution_count": 10,
   "id": "3748d725",
   "metadata": {},
   "outputs": [],
   "source": [
    "def fetch_all_apps(\n",
    "    categories: list[str],\n",
    "    collection_api: CollectionApi,\n",
    "    filepath: Path | None,\n",
    "    force_pull: bool = False,\n",
    ") -> EntireAppIndex:\n",
    "            \n",
    "    all_apps: dict[str, list[AppsIndex]] = defaultdict(list)\n",
    "    for category in categories:\n",
    "        print(f\"Fetching apps for category: {category}\")\n",
    "        apps_in_cat = get_all_apps_in_category(collection_api, category)\n",
    "        all_apps[category].extend(apps_in_cat)\n",
    "    print(f\"Total apps fetched: {sum(len(l) for l in all_apps.values())}\")\n",
    "    index = EntireAppIndex(categories=categories, index=all_apps)\n",
    "    if filepath:\n",
    "        with open(filepath, \"w\") as f:\n",
    "            f.write(index.model_dump_json())\n",
    "\n",
    "    return index"
   ]
  },
  {
   "cell_type": "code",
   "execution_count": 11,
   "id": "1acadca8",
   "metadata": {},
   "outputs": [
    {
     "name": "stdout",
     "output_type": "stream",
     "text": [
      "Fetching apps for category: audiovideo\n",
      "Fetching page 1 for category 'audiovideo'...\n",
      "Fetching page 2 for category 'audiovideo'...\n",
      "Fetching page 3 for category 'audiovideo'...\n",
      "Fetching page 4 for category 'audiovideo'...\n",
      "Fetching apps for category: development\n",
      "Fetching page 1 for category 'development'...\n",
      "Fetching page 2 for category 'development'...\n",
      "Fetching page 3 for category 'development'...\n",
      "Fetching apps for category: education\n",
      "Fetching page 1 for category 'education'...\n",
      "Fetching page 2 for category 'education'...\n",
      "Fetching apps for category: game\n",
      "Fetching page 1 for category 'game'...\n",
      "Fetching page 2 for category 'game'...\n",
      "Fetching page 3 for category 'game'...\n",
      "Fetching page 4 for category 'game'...\n",
      "Fetching page 5 for category 'game'...\n",
      "Fetching page 6 for category 'game'...\n",
      "Fetching page 7 for category 'game'...\n",
      "Fetching apps for category: graphics\n",
      "Fetching page 1 for category 'graphics'...\n",
      "Fetching page 2 for category 'graphics'...\n",
      "Fetching page 3 for category 'graphics'...\n",
      "Fetching apps for category: network\n",
      "Fetching page 1 for category 'network'...\n",
      "Fetching page 2 for category 'network'...\n",
      "Fetching page 3 for category 'network'...\n",
      "Fetching page 4 for category 'network'...\n",
      "Fetching apps for category: office\n",
      "Fetching page 1 for category 'office'...\n",
      "Fetching page 2 for category 'office'...\n",
      "Fetching page 3 for category 'office'...\n",
      "Fetching apps for category: science\n",
      "Fetching page 1 for category 'science'...\n",
      "Fetching apps for category: system\n",
      "Fetching page 1 for category 'system'...\n",
      "Fetching apps for category: utility\n",
      "Fetching page 1 for category 'utility'...\n",
      "Fetching page 2 for category 'utility'...\n",
      "Fetching page 3 for category 'utility'...\n",
      "Fetching page 4 for category 'utility'...\n",
      "Fetching page 5 for category 'utility'...\n",
      "Fetching page 6 for category 'utility'...\n",
      "Fetching page 7 for category 'utility'...\n",
      "Total apps fetched: 3019\n"
     ]
    }
   ],
   "source": [
    "index = fetch_all_apps(categories=categories, collection_api=collection_api, filepath=INDEX_FILEPATH, force_pull=False)"
   ]
  },
  {
   "cell_type": "code",
   "execution_count": null,
   "id": "fb4f0787",
   "metadata": {},
   "outputs": [],
   "source": []
  },
  {
   "cell_type": "code",
   "execution_count": 12,
   "id": "1afd57e9",
   "metadata": {},
   "outputs": [],
   "source": [
    "unified_app_api = UnifiedAppApi(catalogd_client)\n",
    "\n",
    "def get_all_unified_apps(unified_app_api: UnifiedAppApi) -> list[UnifiedApp]:\n",
    "    apps: list[UnifiedApp] = []\n",
    "    \n",
    "    page = 1\n",
    "    count = 100\n",
    "    while True:\n",
    "        results = unified_app_api.find_all_route_api_crud_unified_app_get(limit=count, skip=(page-1)*count)\n",
    "        if results:\n",
    "            apps.extend(results)\n",
    "            page += 1\n",
    "        else:\n",
    "            print(f\"no apps returned for page {page}, breaking\")\n",
    "            break\n",
    "    return apps"
   ]
  },
  {
   "cell_type": "code",
   "execution_count": 13,
   "id": "7f402a39",
   "metadata": {},
   "outputs": [
    {
     "name": "stdout",
     "output_type": "stream",
     "text": [
      "no apps returned for page 96, breaking\n"
     ]
    }
   ],
   "source": [
    "unified_apps = get_all_unified_apps(unified_app_api=unified_app_api)"
   ]
  },
  {
   "cell_type": "code",
   "execution_count": 14,
   "id": "0d8e8b75",
   "metadata": {},
   "outputs": [
    {
     "data": {
      "text/plain": [
       "9444"
      ]
     },
     "execution_count": 14,
     "metadata": {},
     "output_type": "execute_result"
    }
   ],
   "source": [
    "len(unified_apps)"
   ]
  },
  {
   "cell_type": "code",
   "execution_count": 15,
   "id": "d0a7be6b",
   "metadata": {},
   "outputs": [],
   "source": [
    "def match_flatpak_app_with_unified_app(flatpak_app: AppsIndex, unified_apps: list[UnifiedApp]):\n",
    "    # print(flatpak_app.name)\n",
    "    flatpak_app_name = flatpak_app.name.lower()\n",
    "    # replace whitespace with dashes for matching\n",
    "    flatpak_app_name = flatpak_app_name.replace(\" \", \"-\")\n",
    "    for unified_app in unified_apps:\n",
    "        if unified_app.name.lower() == flatpak_app_name:\n",
    "            return unified_app\n",
    "    return None\n"
   ]
  },
  {
   "cell_type": "code",
   "execution_count": 16,
   "id": "6425ec22",
   "metadata": {},
   "outputs": [],
   "source": [
    "from itertools import chain\n",
    "matched_apps = []\n",
    "for flatpak_app in chain(*index.index.values()):\n",
    "    if unified_app_match := match_flatpak_app_with_unified_app(flatpak_app=flatpak_app, unified_apps=unified_apps):\n",
    "        matched_apps.append((flatpak_app, unified_app_match))"
   ]
  },
  {
   "cell_type": "code",
   "execution_count": 17,
   "id": "90e1e8a6",
   "metadata": {},
   "outputs": [
    {
     "data": {
      "text/plain": [
       "622"
      ]
     },
     "execution_count": 17,
     "metadata": {},
     "output_type": "execute_result"
    }
   ],
   "source": [
    "len(matched_apps)"
   ]
  },
  {
   "cell_type": "code",
   "execution_count": 18,
   "id": "85435e93",
   "metadata": {},
   "outputs": [],
   "source": [
    "matched_flatpak_apps = [flatpak for flatpak, unified_app in matched_apps]\n",
    "disjoint_flatpak_apps = [flatpak for flatpak in chain(*index.index.values()) if flatpak not in matched_flatpak_apps]"
   ]
  },
  {
   "cell_type": "code",
   "execution_count": 19,
   "id": "e44b4a6a",
   "metadata": {},
   "outputs": [
    {
     "data": {
      "text/plain": [
       "2397"
      ]
     },
     "execution_count": 19,
     "metadata": {},
     "output_type": "execute_result"
    }
   ],
   "source": [
    "len(disjoint_flatpak_apps)"
   ]
  },
  {
   "cell_type": "code",
   "execution_count": 20,
   "id": "1b53ea7b",
   "metadata": {},
   "outputs": [],
   "source": [
    "exclude_list = [\n",
    "    \"Ruffle\",\n",
    "    \"Videos\",\n",
    "    \"Music\",\n",
    "    \"Builder\",\n",
    "    \"Gitter\",\n",
    "    \"Minion\",\n",
    "    \"Mines\",\n",
    "    \"GIScan\",\n",
    "    \"gitIgnore\",\n",
    "    \"logisim\",\n",
    "    \"System\",\n",
    "    \"KPatience\",\n",
    "    \"Mahjongg\",\n",
    "    \"Workbench\",\n",
    "    \"Zatikon\",\n",
    "    \"Swatch\",\n",
    "    \"Gauge\",\n",
    "    \"Atomic\",\n",
    "    \"Framed\",\n",
    "    \"Element\",\n",
    "    \"Papers\",\n",
    "    \"Calculator\",\n",
    "    \"Weather\",\n",
    "    \"Vaults\",\n",
    "    \"Bottles\",\n",
    "    \"Timer\",\n",
    "    \"Shortcut\",\n",
    "    \"JPEG2PDF\",\n",
    "    \"Password\",\n",
    "    \"Counters\",\n",
    "]"
   ]
  },
  {
   "cell_type": "code",
   "execution_count": 26,
   "id": "ed8840e7",
   "metadata": {},
   "outputs": [],
   "source": [
    "def attempt_match_disjoint_apps(\n",
    "    disjoint_flatpak_apps: list[AppsIndex], unified_apps: list[UnifiedApp], exclude_list: Optional[list[str]] = None\n",
    "):\n",
    "    # Attempt to match disjoint flatpak apps with unified apps using fuzzy matching on lowercased names\n",
    "    matched = []\n",
    "    sm = difflib.CSequenceMatcher(None, \"\", \"\")\n",
    "    match_progress = pbar_manager.counter(total=len(disjoint_flatpak_apps), desc='Attempting matches', unit='apps')\n",
    "    for flatpak_app in disjoint_flatpak_apps:\n",
    "        if exclude_list and flatpak_app.name in exclude_list:\n",
    "            print(f\"Skipping {flatpak_app.name} as it is in the exclude list\")\n",
    "            continue\n",
    "        match_scores: dict[str, float] = {}\n",
    "        sm.set_seq1(flatpak_app.name.lower())\n",
    "        for unified_app in unified_apps:\n",
    "            # use fuzzy matching from difflib\n",
    "            sm.set_seq2(unified_app.name.lower())\n",
    "            score = sm.ratio()\n",
    "            if score > 0.9:  # If the match is above 90%, consider it a match\n",
    "                match_scores[unified_app.name] = score\n",
    "        if match_scores:\n",
    "            best_match = max(match_scores, key=match_scores.get)\n",
    "            print(f\"Best match for {flatpak_app.name} is {best_match} with score {match_scores[best_match]}\")\n",
    "            matched.append((flatpak_app, [app for app in unified_apps if app.name == best_match][0]))\n",
    "        match_progress.update()\n",
    "    return matched"
   ]
  },
  {
   "cell_type": "code",
   "execution_count": 27,
   "id": "38acc9f9",
   "metadata": {},
   "outputs": [
    {
     "data": {
      "text/html": [
       "<style>\n",
       "</style>\n",
       "<div class=\"enlighten\">\n",
       "  <div class=\"enlighten-bar\">\n",
       "    <pre>Attempting matches  31%|███████████▌                         |  741/2397 [00:59&lt;02:11, 12.67 apps/s]</pre>\n",
       "  </div>\n",
       "</div>\n"
      ],
      "text/plain": [
       "<IPython.core.display.HTML object>"
      ]
     },
     "metadata": {},
     "output_type": "display_data"
    },
    {
     "name": "stdout",
     "output_type": "stream",
     "text": [
      "Best match for Power Tab Editor is powertabeditor with score 0.9333333333333333\n",
      "Best match for n-Track Studio is n-trackstudio with score 0.9629629629629629\n",
      "Best match for Firefly Luciferin is fireflyluciferin with score 0.9696969696969697\n",
      "Best match for fre:ac is freac with score 0.9090909090909091\n",
      "Skipping Music as it is in the exclude list\n",
      "Skipping Videos as it is in the exclude list\n",
      "Skipping Ruffle as it is in the exclude list\n",
      "Skipping gitIgnore as it is in the exclude list\n",
      "Best match for Redis Insight is redisinsight with score 0.96\n",
      "Best match for Turtle is kturtle with score 0.9230769230769231\n",
      "Skipping Builder as it is in the exclude list\n",
      "Best match for pgAdmin 4 is pgadmin4 with score 0.9411764705882353\n",
      "Skipping Workbench as it is in the exclude list\n",
      "Best match for Logisim is logiksim with score 0.9333333333333333\n",
      "Skipping System as it is in the exclude list\n",
      "Best match for RemNote is remote with score 0.9230769230769231\n",
      "Best match for Tux Typing is tuxtyping with score 0.9473684210526315\n",
      "Best match for WordQuiz is kwordquiz with score 0.9411764705882353\n",
      "Skipping GIScan as it is in the exclude list\n",
      "Best match for Pixel Wheels is pixelwheels with score 0.9565217391304348\n",
      "Skipping Zatikon as it is in the exclude list\n",
      "Best match for Midnightmare Teddy is midnightmareteddy with score 0.9714285714285714\n",
      "Best match for Dragon’s Apprentice is dragonsapprentice with score 0.9444444444444444\n",
      "Best match for Frog Squash is frogsquash with score 0.9523809523809523\n",
      "Best match for Missile Math is missilemath with score 0.9565217391304348\n",
      "Best match for The Passage is thepassage with score 0.9523809523809523\n",
      "Best match for FaFa Runner is fafarunner with score 0.9523809523809523\n",
      "Best match for SaunaSim is sauna-sim with score 0.9411764705882353\n",
      "Best match for StepMania is step-mania with score 0.9473684210526315\n",
      "Best match for PAC-GAL is pacgal with score 0.9230769230769231\n",
      "Best match for Serious Shooter is seriousshooter with score 0.9655172413793104\n",
      "Best match for Temple Driver is templedriver with score 0.96\n",
      "Best match for Tux Fishing is tuxfishing with score 0.9523809523809523\n",
      "Best match for Tux VS Dragon is tuxvsdragon with score 0.9166666666666666\n",
      "Best match for Voxel Paint is voxelpaint with score 0.9523809523809523\n",
      "Best match for Voxel Paint Pro is voxelpaintpro with score 0.9285714285714286\n",
      "Best match for AI Generated Game is aigeneratedgame with score 0.9375\n",
      "Best match for Mr Rescue is mrrescue with score 0.9411764705882353\n"
     ]
    },
    {
     "ename": "KeyboardInterrupt",
     "evalue": "",
     "output_type": "error",
     "traceback": [
      "\u001b[31m---------------------------------------------------------------------------\u001b[39m",
      "\u001b[31mKeyboardInterrupt\u001b[39m                         Traceback (most recent call last)",
      "\u001b[36mCell\u001b[39m\u001b[36m \u001b[39m\u001b[32mIn[27]\u001b[39m\u001b[32m, line 1\u001b[39m\n\u001b[32m----> \u001b[39m\u001b[32m1\u001b[39m attempted_matches = \u001b[43mattempt_match_disjoint_apps\u001b[49m\u001b[43m(\u001b[49m\n\u001b[32m      2\u001b[39m \u001b[43m    \u001b[49m\u001b[43mdisjoint_flatpak_apps\u001b[49m\u001b[43m=\u001b[49m\u001b[43mdisjoint_flatpak_apps\u001b[49m\u001b[43m,\u001b[49m\u001b[43m \u001b[49m\u001b[43munified_apps\u001b[49m\u001b[43m=\u001b[49m\u001b[43munified_apps\u001b[49m\u001b[43m,\u001b[49m\u001b[43m \u001b[49m\u001b[43mexclude_list\u001b[49m\u001b[43m=\u001b[49m\u001b[43mexclude_list\u001b[49m\n\u001b[32m      3\u001b[39m \u001b[43m)\u001b[49m\n",
      "\u001b[36mCell\u001b[39m\u001b[36m \u001b[39m\u001b[32mIn[26]\u001b[39m\u001b[32m, line 16\u001b[39m, in \u001b[36mattempt_match_disjoint_apps\u001b[39m\u001b[34m(disjoint_flatpak_apps, unified_apps, exclude_list)\u001b[39m\n\u001b[32m     13\u001b[39m sm.set_seq1(flatpak_app.name.lower())\n\u001b[32m     14\u001b[39m \u001b[38;5;28;01mfor\u001b[39;00m unified_app \u001b[38;5;129;01min\u001b[39;00m unified_apps:\n\u001b[32m     15\u001b[39m     \u001b[38;5;66;03m# use fuzzy matching from difflib\u001b[39;00m\n\u001b[32m---> \u001b[39m\u001b[32m16\u001b[39m     \u001b[43msm\u001b[49m\u001b[43m.\u001b[49m\u001b[43mset_seq2\u001b[49m\u001b[43m(\u001b[49m\u001b[43munified_app\u001b[49m\u001b[43m.\u001b[49m\u001b[43mname\u001b[49m\u001b[43m.\u001b[49m\u001b[43mlower\u001b[49m\u001b[43m(\u001b[49m\u001b[43m)\u001b[49m\u001b[43m)\u001b[49m\n\u001b[32m     17\u001b[39m     score = sm.ratio()\n\u001b[32m     18\u001b[39m     \u001b[38;5;28;01mif\u001b[39;00m score > \u001b[32m0.9\u001b[39m:  \u001b[38;5;66;03m# If the match is above 90%, consider it a match\u001b[39;00m\n",
      "\u001b[36mFile \u001b[39m\u001b[32m~/CodeSpaces/flatpak_python/.venv/lib/python3.12/site-packages/cdifflib.py:72\u001b[39m, in \u001b[36mCSequenceMatcher.set_seq2\u001b[39m\u001b[34m(self, b)\u001b[39m\n\u001b[32m     70\u001b[39m \u001b[38;5;28mself\u001b[39m.matching_blocks = \u001b[38;5;28mself\u001b[39m.opcodes = \u001b[38;5;28;01mNone\u001b[39;00m\n\u001b[32m     71\u001b[39m \u001b[38;5;28mself\u001b[39m.fullbcount = \u001b[38;5;28;01mNone\u001b[39;00m\n\u001b[32m---> \u001b[39m\u001b[32m72\u001b[39m junk, popular = \u001b[43m_cdifflib\u001b[49m\u001b[43m.\u001b[49m\u001b[43mchain_b\u001b[49m\u001b[43m(\u001b[49m\u001b[38;5;28;43mself\u001b[39;49m\u001b[43m)\u001b[49m\n\u001b[32m     73\u001b[39m \u001b[38;5;28;01massert\u001b[39;00m \u001b[38;5;28mhasattr\u001b[39m(junk, \u001b[33m\"\u001b[39m\u001b[33m__contains__\u001b[39m\u001b[33m\"\u001b[39m)\n\u001b[32m     74\u001b[39m \u001b[38;5;28;01massert\u001b[39;00m \u001b[38;5;28mhasattr\u001b[39m(popular, \u001b[33m\"\u001b[39m\u001b[33m__contains__\u001b[39m\u001b[33m\"\u001b[39m)\n",
      "\u001b[31mKeyboardInterrupt\u001b[39m: "
     ]
    }
   ],
   "source": [
    "attempted_matches = attempt_match_disjoint_apps(\n",
    "    disjoint_flatpak_apps=disjoint_flatpak_apps, unified_apps=unified_apps, exclude_list=exclude_list\n",
    ")"
   ]
  },
  {
   "cell_type": "code",
   "execution_count": null,
   "id": "f7717949",
   "metadata": {},
   "outputs": [],
   "source": []
  },
  {
   "cell_type": "code",
   "execution_count": 26,
   "id": "7d98dff4",
   "metadata": {},
   "outputs": [
    {
     "name": "stdout",
     "output_type": "stream",
     "text": [
      "Power Tab Editor powertabeditor\n",
      "n-Track Studio n-trackstudio\n",
      "Firefly Luciferin fireflyluciferin\n",
      "fre:ac freac\n",
      "Redis Insight redisinsight\n",
      "Turtle kturtle\n",
      "pgAdmin 4 pgadmin4\n",
      "Logisim logiksim\n",
      "RemNote remote\n",
      "Tux Typing tuxtyping\n",
      "WordQuiz kwordquiz\n",
      "Pixel Wheels pixelwheels\n",
      "Midnightmare Teddy midnightmareteddy\n",
      "Dragon’s Apprentice dragonsapprentice\n",
      "Frog Squash frogsquash\n",
      "Missile Math missilemath\n",
      "The Passage thepassage\n",
      "FaFa Runner fafarunner\n",
      "SaunaSim sauna-sim\n",
      "StepMania step-mania\n",
      "PAC-GAL pacgal\n",
      "Serious Shooter seriousshooter\n",
      "Temple Driver templedriver\n",
      "Tux Fishing tuxfishing\n",
      "Tux VS Dragon tuxvsdragon\n",
      "Voxel Paint voxelpaint\n",
      "Voxel Paint Pro voxelpaintpro\n",
      "AI Generated Game aigeneratedgame\n",
      "Mr Rescue mrrescue\n",
      "Endless Sky endlesssky\n",
      "Sudoku ksudoku\n",
      "OpenDungeonsPlus opendungeons-plus\n",
      "Bugdom 2 bugdom2\n",
      "Cro-Mag Rally cromagrally\n",
      "Otto Matic ottomatic\n",
      "GtkAtlantic gtk-atlantic\n",
      "World of PADMAN worldofpadman\n",
      "Warzone 2100 warzone2100\n",
      "Sky Checkers skycheckers\n",
      "Dhewm 3 dhewm3\n",
      "Frozen Bubble frozenbubble\n",
      "Lights Off lightsoff\n",
      "Reversi kreversi\n",
      "Hurry Curry! hurrycurry\n",
      "Eternal Lands eternallands\n",
      "Stunt Rally stuntrally\n",
      "draw.io drawio\n",
      "Material Maker materialmaker\n",
      "Synfig Studio synfigstudio\n",
      "Rabbit remote control rabbitremotecontrol\n",
      "GeForce NOW Electron geforcenow-electron\n",
      "Dayon! dayon\n",
      "Feeds gfeeds\n",
      "Outline outliner\n",
      "JDownloader jdownloader2\n",
      "Proton Mail Bridge protonmail-bridge\n",
      "PDF Arranger pdfarranger\n",
      "ElectronMail electron-mail\n",
      "Invoice Ninja invoiceninja\n",
      "Super Productivity superproductivity\n",
      "PDF Mix Tool pdfmixtool\n",
      "Chart Geany chartgeany\n",
      "ONLYOFFICE Desktop Editors onlyoffice-desktopeditors\n",
      "SasView sasview5\n",
      "Yancas yacas\n",
      "Revelation revelation-x\n",
      "Basilisk II basiliskii\n",
      "FS-UAE fsuae\n",
      "SimpleX Chat simplexchat\n",
      "MQTT X mqttx\n",
      "Notepad Next notepadnext\n",
      "Wallpaper Downloader wallpaperdownloader\n",
      "Cosmic Comics cosmiccomics\n",
      "Cube Timer cubetimer\n",
      "Save Desktop savedesktop\n",
      "Break Timer breaktimer\n",
      "Time Log timelog\n",
      "Clock kclock\n"
     ]
    }
   ],
   "source": [
    "for flatpak_app, unified_app in attempted_matches:\n",
    "    if flatpak_app.name in exclude_list:\n",
    "        continue\n",
    "    print(f\"{flatpak_app.name} {unified_app.name}\")"
   ]
  },
  {
   "cell_type": "code",
   "execution_count": 27,
   "id": "981e5ff9",
   "metadata": {},
   "outputs": [
    {
     "data": {
      "text/plain": [
       "78"
      ]
     },
     "execution_count": 27,
     "metadata": {},
     "output_type": "execute_result"
    }
   ],
   "source": [
    "len(attempted_matches)"
   ]
  },
  {
   "cell_type": "code",
   "execution_count": 29,
   "id": "f2b89e95",
   "metadata": {},
   "outputs": [
    {
     "data": {
      "text/plain": [
       "(AppsIndex(name='QPrompt', keywords=['autocue', 'imaginary', 'prompter', 'qprompt', 'teleprompter'], summary='Personal teleprompter software for all video creators', description=\"Open source personal teleprompter software for all video creators. Built with ease of use, control accuracy, fast performance, and cross-platform support in mind. QPrompt's convergent user interface can run on Linux, Windows, macOS, and Android.\", id='com_cuperino_qprompt', type='desktop-application', translations={}, project_license='GPL-3.0', is_free_license=True, app_id='com.cuperino.qprompt', icon='https://dl.flathub.org/repo/appstream/x86_64/icons/128x128/com.cuperino.qprompt.png', main_categories=MainCategories(anyof_schema_1_validator=None, anyof_schema_2_validator=None, actual_instance=<MainCategory.AUDIOVIDEO: 'audiovideo'>, any_of_schemas={'MainCategory', 'List[MainCategory]'}), sub_categories=['Video'], developer_name='Javier O. Cordero Pérez', verification_verified=True, verification_method=<VerificationMethod.WEBSITE: 'website'>, verification_login_name=None, verification_login_provider=None, verification_login_is_organization=None, verification_website='cuperino.com', verification_timestamp='1681011650', runtime='org.kde.Platform/x86_64/5.15-22.08', updated_at=1681017300, arches=['aarch64', 'x86_64'], added_at=1681017300, trending=None, installs_last_month=None, is_mobile_friendly=False),\n",
       " UnifiedApp(created_at=datetime.datetime(2025, 9, 18, 1, 34, 36, 427961, tzinfo=TzInfo(UTC)), updated_at=datetime.datetime(2025, 9, 18, 1, 34, 40, 210749, tzinfo=TzInfo(UTC)), id=7559, name='qprompt', title='QPrompt', description='Personal teleprompter software for all video creators.\\nBuilt with ease of use, productivity, control accuracy, and\\nsmooth performance in mind. QPrompt works with tablet teleprompters,\\nstudio teleprompters, webcams and cellphones.\\nQPrompt is the spiritual successor to Imaginary Teleprompter.', author='javicorper', icon='https://dashboard.snapcraft.io/site_media/appmedia/2022/01/512-apps-com.cuperino.qprompt.png', categories=['photo-and-video', 'productivity'], architectures=['amd64', 'arm64', 'source'], app_types=['snap', 'source'], media=[CatalogdSchemasCommonMedia(url='https://dashboard.snapcraft.io/site_media/appmedia/2022/01/512-apps-com.cuperino.qprompt.png', type='icon', height=512.0, width=512.0, alt_text=None), CatalogdSchemasCommonMedia(url='https://dashboard.snapcraft.io/site_media/appmedia/2022/01/banner.jpg', type='banner', height=1440.0, width=4320.0, alt_text=None), CatalogdSchemasCommonMedia(url='https://dashboard.snapcraft.io/site_media/appmedia/2022/01/1.png', type='screenshot', height=769.0, width=1306.0, alt_text=None), CatalogdSchemasCommonMedia(url='https://dashboard.snapcraft.io/site_media/appmedia/2022/01/3.png', type='screenshot', height=1200.0, width=1920.0, alt_text=None), CatalogdSchemasCommonMedia(url='https://dashboard.snapcraft.io/site_media/appmedia/2022/01/4.png', type='screenshot', height=1200.0, width=1920.0, alt_text=None), CatalogdSchemasCommonMedia(url='https://dashboard.snapcraft.io/site_media/appmedia/2022/01/Screenshot_20220103_062427e.png', type='screenshot', height=2160.0, width=1386.0, alt_text=None), CatalogdSchemasCommonMedia(url='https://dashboard.snapcraft.io/site_media/appmedia/2022/01/Screenshot_20211229_170443.png', type='screenshot', height=1716.0, width=2216.0, alt_text=None)]))"
      ]
     },
     "execution_count": 29,
     "metadata": {},
     "output_type": "execute_result"
    }
   ],
   "source": [
    "matched_apps[1]"
   ]
  },
  {
   "cell_type": "code",
   "execution_count": 1,
   "id": "9abfa2ea",
   "metadata": {},
   "outputs": [
    {
     "ename": "NameError",
     "evalue": "name 'matched_apps' is not defined",
     "output_type": "error",
     "traceback": [
      "\u001b[31m---------------------------------------------------------------------------\u001b[39m",
      "\u001b[31mNameError\u001b[39m                                 Traceback (most recent call last)",
      "\u001b[36mCell\u001b[39m\u001b[36m \u001b[39m\u001b[32mIn[1]\u001b[39m\u001b[32m, line 1\u001b[39m\n\u001b[32m----> \u001b[39m\u001b[32m1\u001b[39m \u001b[43mmatched_apps\u001b[49m.extend(attempted_matches)\n",
      "\u001b[31mNameError\u001b[39m: name 'matched_apps' is not defined"
     ]
    }
   ],
   "source": [
    "matched_apps.extend(attempted_matches)"
   ]
  },
  {
   "cell_type": "code",
   "execution_count": null,
   "id": "64886237",
   "metadata": {},
   "outputs": [],
   "source": []
  }
 ],
 "metadata": {
  "kernelspec": {
   "display_name": "flatpak-python-py3.12",
   "language": "python",
   "name": "python3"
  },
  "language_info": {
   "codemirror_mode": {
    "name": "ipython",
    "version": 3
   },
   "file_extension": ".py",
   "mimetype": "text/x-python",
   "name": "python",
   "nbconvert_exporter": "python",
   "pygments_lexer": "ipython3",
   "version": "3.12.3"
  }
 },
 "nbformat": 4,
 "nbformat_minor": 5
}
